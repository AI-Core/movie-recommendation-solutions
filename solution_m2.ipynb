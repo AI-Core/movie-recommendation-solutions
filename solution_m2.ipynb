{
 "cells": [
  {
   "cell_type": "markdown",
   "metadata": {},
   "source": [
    "# Movie Recommendation - Milestone 2 - Solutions"
   ]
  },
  {
   "cell_type": "code",
   "execution_count": null,
   "metadata": {},
   "outputs": [],
   "source": [
    "#@title # Run this cell to get the movies variable in the notebook { display-mode: \"form\" }\n",
    "!wget https://aicore-files.s3.amazonaws.com/Movie-Recommendation/movies-head.json\n",
    "import json\n",
    "# Load the movies\n",
    "with open('movies-head.json', 'r') as f:\n",
    "    movies = json.load(f)"
   ]
  },
  {
   "cell_type": "markdown",
   "metadata": {},
   "source": [
    "## Task 1"
   ]
  },
  {
   "cell_type": "markdown",
   "metadata": {},
   "source": [
    "To define a function in Python you use the `def` keyword. For example, the following code defines a function called `my_function` that takes two arguments and returns their sum:\n",
    "\n",
    "```python\n",
    "def my_function(a, b):\n",
    "    return a + b\n",
    "```\n",
    "\n",
    "To iterate through a list, you can use a `for` loop. For example, the following code iterates through the list `my_list` and prints each element:\n",
    "\n",
    "```python\n",
    "my_list = [1, 2, 3, 4, 5]\n",
    "for element in my_list:\n",
    "    print(element)\n",
    "```"
   ]
  },
  {
   "cell_type": "code",
   "execution_count": null,
   "metadata": {},
   "outputs": [],
   "source": [
    "def print_every_movie_name():\n",
    "    for movie in movies:\n",
    "        print(movie[\"title\"])\n",
    "\n",
    "print_every_movie_name()"
   ]
  },
  {
   "cell_type": "markdown",
   "metadata": {},
   "source": [
    "## Task 2"
   ]
  },
  {
   "cell_type": "markdown",
   "metadata": {},
   "source": [
    "A function can expect variables to be passed to it. When you define the function, you can specify the names of the variables that will be passed to it. These variables are called parameters. For example, the following function expects two parameters:\n",
    "\n",
    "```python\n",
    "def my_function(a, b):\n",
    "    print(a + b)\n",
    "```\n",
    "\n",
    "When you call the function, you can pass it arguments. These arguments are the values that will be assigned to the parameters. For example, the following code calls the function `my_function` and passes it two arguments:\n",
    "    \n",
    "```python\n",
    "my_function(1, 2)\n",
    "```\n",
    "\n",
    "Additionally, in this task you were asked to return the length of the description. So, inside the function, you need to use the keyword `return` to return the length of the description. Otherwise, the function will execute the code inside the function, but it will not return anything. For example, the following code returns the sum of the two arguments:\n",
    "\n",
    "```python\n",
    "def my_function(a, b):\n",
    "    return a + b\n",
    "```"
   ]
  },
  {
   "cell_type": "code",
   "execution_count": null,
   "metadata": {},
   "outputs": [],
   "source": [
    "def get_movie_description_length(movie):\n",
    "    return len(movie[\"description\"])\n",
    "\n",
    "get_movie_description_length(movie)"
   ]
  },
  {
   "cell_type": "markdown",
   "metadata": {},
   "source": [
    "## Task 3"
   ]
  },
  {
   "cell_type": "markdown",
   "metadata": {},
   "source": [
    "You can compute the average value by dividing the sum of the values by the number of values. For example, the following code computes the average of the list `my_list`:\n",
    "\n",
    "```python\n",
    "my_list = [1, 2, 3, 4, 5]\n",
    "sum = 0\n",
    "for element in my_list:\n",
    "    sum += element\n",
    "average = sum / len(my_list)\n",
    "```\n",
    "\n",
    "Be careful, if you have a string, the code will not work!"
   ]
  },
  {
   "cell_type": "code",
   "execution_count": null,
   "metadata": {},
   "outputs": [],
   "source": [
    "def get_avg_movie_description_length():\n",
    "    total_len = 0\n",
    "    for movie in movies:\n",
    "        total_len += len(movie[\"description\"])\n",
    "    avg_description_len = total_len / len(movies)\n",
    "    avg_description_len = round(avg_description_len, 1)\n",
    "    return avg_description_len\n",
    "\n",
    "get_avg_movie_description_length()"
   ]
  },
  {
   "cell_type": "markdown",
   "metadata": {},
   "source": [
    "## Task 4\n",
    "\n",
    "To get the movie with the longest name, first we need to compute all the lengths of the names. Then, we need to find the maximum length. \n",
    "\n",
    "In order to keep track of the largest length and the corresponding movie, we can define two variables that will take the values of the largest length and the corresponding movie."
   ]
  },
  {
   "cell_type": "code",
   "execution_count": null,
   "metadata": {},
   "outputs": [],
   "source": [
    "def get_max_movie_name_length():\n",
    "    title_of_movie_with_longest_title = None\n",
    "    length_of_longest_movie_title = 0\n",
    "    for movie in movies:\n",
    "        title = movie[\"title\"]\n",
    "        if len(title) > length_of_longest_movie_title:\n",
    "            length_of_longest_movie_title = len(title)\n",
    "            title_of_movie_with_longest_title = title\n",
    "    return length_of_longest_movie_title, title_of_movie_with_longest_title\n",
    "\n",
    "get_max_movie_name_length()"
   ]
  }
 ],
 "metadata": {
  "kernelspec": {
   "display_name": "Python 3.9.5 ('base')",
   "language": "python",
   "name": "python3"
  },
  "language_info": {
   "codemirror_mode": {
    "name": "ipython",
    "version": 3
   },
   "file_extension": ".py",
   "mimetype": "text/x-python",
   "name": "python",
   "nbconvert_exporter": "python",
   "pygments_lexer": "ipython3",
   "version": "3.9.5"
  },
  "orig_nbformat": 4,
  "vscode": {
   "interpreter": {
    "hash": "ce99af5845ff7f417c6fe57e3883abe41597db90e3f493c4f9da5159bbc46102"
   }
  }
 },
 "nbformat": 4,
 "nbformat_minor": 2
}
