{
 "cells": [
  {
   "cell_type": "markdown",
   "metadata": {},
   "source": [
    "# Movie Recommendation - Milestone 3 - Solutions"
   ]
  },
  {
   "cell_type": "code",
   "execution_count": 2,
   "metadata": {},
   "outputs": [
    {
     "name": "stdout",
     "output_type": "stream",
     "text": [
      "--2022-12-02 15:43:54--  https://aicore-files.s3.amazonaws.com/Movie-Recommendation/movies.json\n",
      "Resolving aicore-files.s3.amazonaws.com (aicore-files.s3.amazonaws.com)... 52.216.170.35, 3.5.10.199, 52.217.87.212, ...\n",
      "Connecting to aicore-files.s3.amazonaws.com (aicore-files.s3.amazonaws.com)|52.216.170.35|:443... connected.\n",
      "HTTP request sent, awaiting response... 200 OK\n",
      "Length: 158540 (155K) [application/json]\n",
      "Saving to: ‘movies.json.1’\n",
      "\n",
      "movies.json.1       100%[===================>] 154,82K   592KB/s    in 0,3s    \n",
      "\n",
      "2022-12-02 15:43:55 (592 KB/s) - ‘movies.json.1’ saved [158540/158540]\n",
      "\n"
     ]
    }
   ],
   "source": [
    "#@title # Run this cell to get the movies variable in the notebook { display-mode: \"form\" }\n",
    "!wget https://aicore-files.s3.amazonaws.com/Movie-Recommendation/movies.json\n",
    "import json\n",
    "# Load the movies\n",
    "with open('movies.json', 'r') as f:\n",
    "    movies = json.load(f)"
   ]
  },
  {
   "cell_type": "markdown",
   "metadata": {},
   "source": [
    "## Task 1"
   ]
  },
  {
   "cell_type": "markdown",
   "metadata": {},
   "source": [
    "To load a json file, first you need to import the `json` module.\n",
    "\n",
    "Then, use the `with` statement to open the file and use the `json.load()` function to load the data into a variable.\n",
    "\n",
    "```python\n",
    "import json\n",
    "\n",
    "with open('movies.json') as f:\n",
    "    movies = json.load(f)\n",
    "```\n",
    "\n",
    "The `with` statement will automatically close the file after the code block is executed. If a file is not closed properly, it may cause errors.\n",
    "\n",
    "Then, you need to write a function called `load_movies_data` that does this inside. "
   ]
  },
  {
   "cell_type": "code",
   "execution_count": null,
   "metadata": {},
   "outputs": [],
   "source": [
    "def load_movies_data():\n",
    "    with open('movies.json', 'r') as f:\n",
    "        movies = json.load(f)\n",
    "    return movies\n",
    "\n",
    "load_movies_data()"
   ]
  },
  {
   "cell_type": "markdown",
   "metadata": {},
   "source": [
    "## Task 2"
   ]
  },
  {
   "cell_type": "markdown",
   "metadata": {},
   "source": [
    "To get the unique genres, you can first create a list of all the genres in the dataset. Then, you can use the `set()` function to get the unique genres.\n",
    "\n",
    "There are two ways to get the list. One using a `for` loop"
   ]
  },
  {
   "cell_type": "code",
   "execution_count": null,
   "metadata": {},
   "outputs": [],
   "source": [
    "def get_unique_genres():\n",
    "\n",
    "    # OPTION 1 - NAIVE LOOP\n",
    "    genres = []\n",
    "    for movie in movies:\n",
    "        genres.append(movie[\"genre\"])\n",
    "    genres = set(genres)"
   ]
  },
  {
   "cell_type": "markdown",
   "metadata": {},
   "source": [
    "And the other one using a list comprehension"
   ]
  },
  {
   "cell_type": "code",
   "execution_count": null,
   "metadata": {},
   "outputs": [],
   "source": [
    "def get_unique_genres():\n",
    "    # OPTION 2 - LIST COMPREHENSION\n",
    "    genres = [m[\"genre\"] for m in movies] # one line filter\n",
    "    genres = set(genres)\n",
    "    return genres"
   ]
  },
  {
   "cell_type": "markdown",
   "metadata": {},
   "source": [
    "## Task 3"
   ]
  },
  {
   "cell_type": "markdown",
   "metadata": {},
   "source": [
    "You can filter the movies by genre checking the movies with the same genre using an `if` statement.\n",
    "\n",
    "```python\n",
    "\n",
    "if movie['genre'] == genre:\n",
    "    # do something\n",
    "```\n",
    "\n",
    "For this task, there are multiple ways to do it. One way is to use a `for` loop"
   ]
  },
  {
   "cell_type": "code",
   "execution_count": null,
   "metadata": {},
   "outputs": [],
   "source": [
    "def get_movies_in_genre(genre):\n",
    "    # OPTION 1 - NAIVE LOOP\n",
    "    filtered_movies = []\n",
    "    for movie in movies:\n",
    "        if movie[\"genre\"] == genre:\n",
    "            filtered_movies.append(movie)\n",
    "    return filtered_movies"
   ]
  },
  {
   "cell_type": "markdown",
   "metadata": {},
   "source": [
    "Another way is to write a function that filters the movies."
   ]
  },
  {
   "cell_type": "code",
   "execution_count": null,
   "metadata": {},
   "outputs": [],
   "source": [
    "def get_movies_in_genre(genre):\n",
    "    # OPTION 2 - FILTER FUNCTION\n",
    "    def is_in_genre(movie):\n",
    "        return movie[\"genre\"] == genre\n",
    "        \n",
    "    return list(filter(is_in_genre, movies))"
   ]
  },
  {
   "cell_type": "markdown",
   "metadata": {},
   "source": [
    "And the last way is to use a list comprehension"
   ]
  },
  {
   "cell_type": "code",
   "execution_count": null,
   "metadata": {},
   "outputs": [],
   "source": [
    "def get_movies_in_genre(genre):\n",
    "    # OPTION 3 - LIST COMPREHENSION\n",
    "    return [movie for movie in movies if movie[\"genre\"] == genre]"
   ]
  },
  {
   "cell_type": "markdown",
   "metadata": {},
   "source": []
  }
 ],
 "metadata": {
  "kernelspec": {
   "display_name": "Python 3.9.5 ('base')",
   "language": "python",
   "name": "python3"
  },
  "language_info": {
   "codemirror_mode": {
    "name": "ipython",
    "version": 3
   },
   "file_extension": ".py",
   "mimetype": "text/x-python",
   "name": "python",
   "nbconvert_exporter": "python",
   "pygments_lexer": "ipython3",
   "version": "3.9.5"
  },
  "orig_nbformat": 4,
  "vscode": {
   "interpreter": {
    "hash": "ce99af5845ff7f417c6fe57e3883abe41597db90e3f493c4f9da5159bbc46102"
   }
  }
 },
 "nbformat": 4,
 "nbformat_minor": 2
}
