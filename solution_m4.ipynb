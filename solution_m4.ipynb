{
 "cells": [
  {
   "cell_type": "markdown",
   "metadata": {},
   "source": [
    "# Movie Recommendation - Milestone 4 - Solutions"
   ]
  },
  {
   "cell_type": "code",
   "execution_count": null,
   "metadata": {},
   "outputs": [],
   "source": [
    "!wget https://aicore-files.s3.amazonaws.com/Movie-Recommendation/movies.json\n",
    "import json\n",
    "with open('movies.json', 'r') as f:\n",
    "    movies = json.load(f)\n",
    "\n",
    "def get_unique_genres():\n",
    "    genres = []\n",
    "    for movie in movies:\n",
    "        genres.append(movie[\"genre\"])\n",
    "    genres = set(genres)\n",
    "    return genres\n",
    "\n",
    "def get_movies_in_genre(genre):\n",
    "    movies_in_genre = []\n",
    "    for movie in movies:\n",
    "        if movie[\"genre\"] == genre:\n",
    "            movies_in_genre.append(movie)\n",
    "    return movies_in_genre"
   ]
  },
  {
   "cell_type": "markdown",
   "metadata": {},
   "source": [
    "## Task 1"
   ]
  },
  {
   "cell_type": "markdown",
   "metadata": {},
   "source": [
    "You can ask the user for an input using the `input()` function. For example, you can ask the user for their name:\n",
    "\n",
    "```python\n",
    "name = input(\"What is your name? \")\n",
    "print(\"Hello\", name)\n",
    "```"
   ]
  },
  {
   "cell_type": "code",
   "execution_count": null,
   "metadata": {},
   "outputs": [],
   "source": [
    "def get_user_genre_choice():\n",
    "    print(\"Select a genre from the following set:\")\n",
    "    print(get_unique_genres())\n",
    "    genre_choice = input(\"Type a genre then hit enter...\\n\")\n",
    "    return genre_choice\n",
    "\n",
    "get_user_genre_choice()"
   ]
  },
  {
   "cell_type": "markdown",
   "metadata": {},
   "source": [
    "## Task 2"
   ]
  },
  {
   "cell_type": "markdown",
   "metadata": {},
   "source": [
    "The `enumerate` function is useful when you want to loop through a list and keep track of the index of each item. For example, if you want to print out each item in a list with its index, you can do the following:\n",
    "\n",
    "```python\n",
    "my_list = [\"a\", \"b\", \"c\"]\n",
    "for index, item in enumerate(my_list):\n",
    "    print(index, item)\n",
    "```\n",
    "\n",
    "This will print out:\n",
    "\n",
    "```\n",
    "0 a\n",
    "1 b\n",
    "2 c\n",
    "```\n",
    "\n",
    "You can use this to print out the index of each movie in the `movies` list."
   ]
  },
  {
   "cell_type": "code",
   "execution_count": null,
   "metadata": {},
   "outputs": [],
   "source": [
    "genre_choice = get_user_genre_choice()\n",
    "movies_in_genre = get_movies_in_genre(genre_choice)\n",
    "for idx, movie in enumerate(movies_in_genre):\n",
    "    print(f\"{idx + 1}: {movie['title']}\")\n"
   ]
  },
  {
   "cell_type": "markdown",
   "metadata": {},
   "source": [
    "And the other one using a list comprehension"
   ]
  },
  {
   "cell_type": "code",
   "execution_count": null,
   "metadata": {},
   "outputs": [],
   "source": [
    "def get_unique_genres():\n",
    "    # OPTION 2 - LIST COMPREHENSION\n",
    "    genres = [m[\"genre\"] for m in movies] # one line filter\n",
    "    genres = set(genres)\n",
    "    return genres"
   ]
  },
  {
   "cell_type": "markdown",
   "metadata": {},
   "source": [
    "## Task 3"
   ]
  },
  {
   "cell_type": "markdown",
   "metadata": {},
   "source": [
    "This task is an extension of the previous one. Once you print out the movies from a specific genre, you can ask the user to select a movie by entering the index of the movie. You can then print out the details of the movie.\n",
    "\n",
    "So, the steps are:\n",
    "\n",
    "- Ask the user for a genre\n",
    "- Print out the movies from that genre\n",
    "- Ask the user to select a movie by entering the index of the movie.\n",
    "    - Remember that the index was increased by 1 when you printed out the movies.\n",
    "    - Also, remember that the input function returns a string, so you need to convert it to an integer.\n",
    "- Print out the details of the movie"
   ]
  },
  {
   "cell_type": "code",
   "execution_count": null,
   "metadata": {},
   "outputs": [],
   "source": [
    "# 1. Ask the user for a genre\n",
    "genre_choice = get_user_genre_choice()\n",
    "\n",
    "# 2. Print out the movies in that genre\n",
    "movies_in_genre = get_movies_in_genre(genre_choice)\n",
    "for idx, movie in enumerate(movies_in_genre):\n",
    "    print(f\"{idx + 1}: {movie['title']}\")\n",
    "\n",
    "# 3. Ask the user for a movie by entering the index of the movie\n",
    "selected_movie_index = input(\"Choose the number that you wish to select\")\n",
    "\n",
    "# 3.1 Convert the index to an integer\n",
    "selected_movie_index = int(selected_movie_index) \n",
    "\n",
    "# 3.2 Subtract 1 from the index to get the correct index\n",
    "selected_movie_index -= 1\n",
    "selected_movie = movies_in_genre[selected_movie_index]\n",
    "\n",
    "# 4. Print out the details of the movie\n",
    "for key, value in selected_movie.items():\n",
    "    print(f\"{key}: {value}\")  # TODO print key-value pair"
   ]
  },
  {
   "cell_type": "markdown",
   "metadata": {},
   "source": [
    "So, if we put everything in a function"
   ]
  },
  {
   "cell_type": "code",
   "execution_count": null,
   "metadata": {},
   "outputs": [],
   "source": [
    "def get_movie_by_index():\n",
    "    genre_choice = get_user_genre_choice()\n",
    "    movies_in_genre = get_movies_in_genre(genre_choice)\n",
    "    for idx, movie in enumerate(movies_in_genre):\n",
    "        print(f\"{idx + 1}: {movie['title']}\")\n",
    "    movie_index = int(input(\"Type a number then hit enter...\\n\"))\n",
    "    movie = movies_in_genre[movie_index - 1]\n",
    "    for key, value in movie.items():\n",
    "        print(f\"{key}: {value}\")"
   ]
  }
 ],
 "metadata": {
  "kernelspec": {
   "display_name": "Python 3.9.5 ('base')",
   "language": "python",
   "name": "python3"
  },
  "language_info": {
   "codemirror_mode": {
    "name": "ipython",
    "version": 3
   },
   "file_extension": ".py",
   "mimetype": "text/x-python",
   "name": "python",
   "nbconvert_exporter": "python",
   "pygments_lexer": "ipython3",
   "version": "3.9.5"
  },
  "orig_nbformat": 4,
  "vscode": {
   "interpreter": {
    "hash": "ce99af5845ff7f417c6fe57e3883abe41597db90e3f493c4f9da5159bbc46102"
   }
  }
 },
 "nbformat": 4,
 "nbformat_minor": 2
}
