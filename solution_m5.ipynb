{
 "cells": [
  {
   "cell_type": "markdown",
   "metadata": {},
   "source": [
    "# Movie Recommendation - Milestone 5 - Solutions"
   ]
  },
  {
   "cell_type": "code",
   "execution_count": 1,
   "metadata": {},
   "outputs": [
    {
     "name": "stdout",
     "output_type": "stream",
     "text": [
      "--2022-12-03 03:41:53--  https://aicore-files.s3.amazonaws.com/Movie-Recommendation/movies.json\n",
      "Resolving aicore-files.s3.amazonaws.com (aicore-files.s3.amazonaws.com)... 52.216.186.179, 52.217.225.193, 52.216.56.249, ...\n",
      "Connecting to aicore-files.s3.amazonaws.com (aicore-files.s3.amazonaws.com)|52.216.186.179|:443... connected.\n",
      "HTTP request sent, awaiting response... 200 OK\n",
      "Length: 158540 (155K) [application/json]\n",
      "Saving to: ‘movies.json.5’\n",
      "\n",
      "movies.json.5       100%[===================>] 154,82K   570KB/s    in 0,3s    \n",
      "\n",
      "2022-12-03 03:41:54 (570 KB/s) - ‘movies.json.5’ saved [158540/158540]\n",
      "\n"
     ]
    }
   ],
   "source": [
    "!wget https://aicore-files.s3.amazonaws.com/Movie-Recommendation/movies.json\n",
    "import json\n",
    "with open('movies.json', 'r') as f:\n",
    "    movies = json.load(f)\n",
    "\n",
    "def get_unique_genres():\n",
    "    genres = []\n",
    "    for movie in movies:\n",
    "        genres.append(movie[\"genre\"])\n",
    "    genres = set(genres)\n",
    "    return genres\n",
    "\n",
    "def get_movies_in_genre(genre):\n",
    "    movies_in_genre = []\n",
    "    for movie in movies:\n",
    "        if movie[\"genre\"] == genre:\n",
    "            movies_in_genre.append(movie)\n",
    "    return movies_in_genre"
   ]
  },
  {
   "cell_type": "markdown",
   "metadata": {},
   "source": [
    "## Task 1"
   ]
  },
  {
   "cell_type": "markdown",
   "metadata": {},
   "source": [
    "Raising an error in Python is done using the `raise` keyword. If you want to raise a generic error, you can use the `Exception` class. For example, the following code will raise an error:\n",
    "\n",
    "```python\n",
    "raise Exception(\"This is an error message\")\n",
    "```\n",
    "\n",
    "We need to raise this issue if the user tries to fetch movies from a genre that is not valid."
   ]
  },
  {
   "cell_type": "code",
   "execution_count": null,
   "metadata": {},
   "outputs": [],
   "source": [
    "def get_user_genre_choice():\n",
    "    unique_genres = get_unique_genres()\n",
    "    print(\"Select a genre from the following set:\")\n",
    "    print(unique_genres)\n",
    "    genre_choice = input(\"Type a genre then hit enter...\\n\")\n",
    "    if genre_choice not in unique_genres: \n",
    "        raise Exception \n",
    "    return genre_choice"
   ]
  },
  {
   "cell_type": "markdown",
   "metadata": {},
   "source": [
    "## Task 2"
   ]
  },
  {
   "cell_type": "markdown",
   "metadata": {},
   "source": [
    "If you want to raise a specific type of error, you can add the type of error after the `raise` keyword. For example, the following code will raise a `ValueError`:\n",
    "\n",
    "```python\n",
    "raise ValueError(\"This is an error message\")\n",
    "```\n",
    "\n",
    "You can check the [Python documentation](https://docs.python.org/3/library/exceptions.html) for a list of all the built-in exceptions.\n",
    "\n",
    "The `ValueError` accepts a string as an argument, so we can use it to raise an error if the user tries to fetch movies from a genre that is not valid. In the example above, the error shows the message `This is an error message`.\n",
    "\n",
    "In this task, you need to raise a `ValueError` if the user tries to fetch movies from a genre that is not valid."
   ]
  },
  {
   "cell_type": "code",
   "execution_count": null,
   "metadata": {},
   "outputs": [],
   "source": [
    "def get_user_genre_choice():\n",
    "    unique_genres = get_unique_genres()\n",
    "    print(\"Select a genre from the following set:\")\n",
    "    print(unique_genres)\n",
    "    genre_choice = input(\"Type a genre then hit enter...\\n\")\n",
    "    if genre_choice not in unique_genres: \n",
    "        raise ValueError(f'There are no movies with \"{genre_choice}\" as a genre')\n",
    "    return genre_choice"
   ]
  },
  {
   "cell_type": "markdown",
   "metadata": {},
   "source": [
    "## Task 3"
   ]
  },
  {
   "cell_type": "markdown",
   "metadata": {},
   "source": [
    "You can use the `try` and `except` keywords to catch errors in Python. The `try` keyword is used to wrap the code that might raise an error. The `except` keyword is used to catch the error and do something with it. For example, the following code will catch a `ValueError` and print a message:\n",
    "\n",
    "```python\n",
    "try:\n",
    "    if movie_genre not in genres:\n",
    "        raise ValueError(\"Invalid genre\")\n",
    "    else:\n",
    "        print(\"Fetching {} movies...\".format(movie_genre))\n",
    "except ValueError:\n",
    "    print(\"An error occurred\")\n",
    "```\n",
    "\n",
    "In this task, you need to catch the `ValueError` that you raised in the previous task and print a message.\n",
    "\n",
    "You can wrap the code in an infinite while loop so that the user can keep entering a genre until they enter a valid one."
   ]
  },
  {
   "cell_type": "code",
   "execution_count": null,
   "metadata": {},
   "outputs": [],
   "source": [
    "def get_user_genre_choice():\n",
    "    unique_genres = get_unique_genres()\n",
    "    print(\"Select a genre from the following set:\")\n",
    "    print(unique_genres)\n",
    "    while True: \n",
    "        try: \n",
    "            genre_choice = input(\"Type a genre then hit enter...\\n\")\n",
    "            if genre_choice not in unique_genres:\n",
    "                raise ValueError(f'There are no movies with \"{genre_choice}\" as a genre') \n",
    "            else:\n",
    "                break\n",
    "        except:\n",
    "            print(\"Please try again\") \n",
    "\n",
    "    return genre_choice"
   ]
  }
 ],
 "metadata": {
  "kernelspec": {
   "display_name": "Python 3.9.5 ('base')",
   "language": "python",
   "name": "python3"
  },
  "language_info": {
   "codemirror_mode": {
    "name": "ipython",
    "version": 3
   },
   "file_extension": ".py",
   "mimetype": "text/x-python",
   "name": "python",
   "nbconvert_exporter": "python",
   "pygments_lexer": "ipython3",
   "version": "3.9.5"
  },
  "orig_nbformat": 4,
  "vscode": {
   "interpreter": {
    "hash": "ce99af5845ff7f417c6fe57e3883abe41597db90e3f493c4f9da5159bbc46102"
   }
  }
 },
 "nbformat": 4,
 "nbformat_minor": 2
}
